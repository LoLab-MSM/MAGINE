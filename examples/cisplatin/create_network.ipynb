{
 "cells": [
  {
   "cell_type": "markdown",
   "metadata": {},
   "source": [
    "# Creating a data driven network\n",
    "\n",
    "This example shows how we create and add annotations to a data driven network."
   ]
  },
  {
   "cell_type": "code",
   "execution_count": 1,
   "metadata": {},
   "outputs": [],
   "source": [
    "import sys\n",
    "sys.path.append(\"../..\")\n",
    "\n",
    "%matplotlib inline\n",
    "from IPython.display import display\n",
    "import os\n",
    "import networkx as nx"
   ]
  },
  {
   "cell_type": "code",
   "execution_count": 2,
   "metadata": {},
   "outputs": [],
   "source": [
    "from exp_data import exp_data\n",
    "from magine.networks.utils import add_attribute_to_network\n",
    "from magine.networks.network_generator import build_network"
   ]
  },
  {
   "cell_type": "markdown",
   "metadata": {},
   "source": [
    "Creating list of seed species and background species for network"
   ]
  },
  {
   "cell_type": "code",
   "execution_count": 3,
   "metadata": {},
   "outputs": [],
   "source": [
    "measured = set(exp_data.species.id_list)\n",
    "sig_measured = set(exp_data.species.sig.id_list)"
   ]
  },
  {
   "cell_type": "markdown",
   "metadata": {},
   "source": [
    "Now we will create the network. We pass the seed and background list to the network as well as flags turning on all of the network databases. We also trim source/sink nodes (optional). This basically cleans up dangling nodes that are not in our seed or background lists."
   ]
  },
  {
   "cell_type": "code",
   "execution_count": 4,
   "metadata": {},
   "outputs": [
    {
     "name": "stdout",
     "output_type": "stream",
     "text": [
      "Trimming network\n",
      "Network has 15841 nodes and 184279 edges\n",
      "Found 8513 of 15777 seed species in network\n",
      "Found 10556 of 23725 background species in network\n"
     ]
    }
   ],
   "source": [
    "network = build_network(\n",
    "    seed_species=sig_measured,  # seed species\n",
    "    all_measured_list=measured,  # all data measured\n",
    "    use_biogrid=True,  # expand with biogrid\n",
    "    use_hmdb=True,  # expand with hmdb\n",
    "    use_reactome=True,  # expand with reactome\n",
    "    use_signor=True,  # expand with signor\n",
    "    trim_source_sink=True,  # remove all source and sink nodes not measured\n",
    "    save_name='Data/cisplatin_network'\n",
    ")"
   ]
  },
  {
   "cell_type": "markdown",
   "metadata": {},
   "source": [
    "Now that we have a network generated, we will add attributes to the network. This way we can visualize these attributes."
   ]
  },
  {
   "cell_type": "code",
   "execution_count": 5,
   "metadata": {},
   "outputs": [],
   "source": [
    "# seed species \n",
    "network = add_attribute_to_network(network, sig_measured,\n",
    "                                   'seed', 'red', 'blue')\n",
    "\n",
    "# background\n",
    "network = add_attribute_to_network(network, measured, \n",
    "                                   'measured', 'red', 'blue')"
   ]
  },
  {
   "cell_type": "code",
   "execution_count": 6,
   "metadata": {},
   "outputs": [],
   "source": [
    "# This retrieves a dictionary of where the keys are from the 'source' of the data and values are lists of species\n",
    "m, sig_m = exp_data.get_measured_by_datatype()"
   ]
  },
  {
   "cell_type": "code",
   "execution_count": 7,
   "metadata": {},
   "outputs": [],
   "source": [
    "# add attribute if node is measured per 'source' of data\n",
    "for exp_type, spec in m.items():\n",
    "    # this just cleans up non alpha-numeric characters\n",
    "    attr_name = exp_type.replace('_', '')\n",
    "    attr_name = attr_name.replace('-', '')\n",
    "    network = add_attribute_to_network(network, spec, attr_name,\n",
    "                                             'red', 'blue')\n",
    "    "
   ]
  },
  {
   "cell_type": "code",
   "execution_count": 8,
   "metadata": {},
   "outputs": [],
   "source": [
    "# add labels for if node is measured in any of our samples\n",
    "for time, spec in zip(exp_data.species.sig.sample_ids, exp_data.species.sig.by_sample):\n",
    "    time = 'sample{}'.format(time)\n",
    "    network = add_attribute_to_network(network, spec, time, 'red', 'blue')"
   ]
  },
  {
   "cell_type": "code",
   "execution_count": 9,
   "metadata": {},
   "outputs": [],
   "source": [
    "save_name = 'cisplatin_network_w_attributes'\n",
    "\n",
    "# write to GML for cytoscape or other program\n",
    "nx.write_gml(network, os.path.join('Data', save_name+'.gml'))\n",
    "\n",
    "# write to gpickle for fast loading in python\n",
    "nx.write_gpickle(network, os.path.join('Data', save_name+'.p'))"
   ]
  }
 ],
 "metadata": {
  "kernelspec": {
   "display_name": "Python 2",
   "language": "python",
   "name": "python2"
  },
  "language_info": {
   "codemirror_mode": {
    "name": "ipython",
    "version": 2
   },
   "file_extension": ".py",
   "mimetype": "text/x-python",
   "name": "python",
   "nbconvert_exporter": "python",
   "pygments_lexer": "ipython2",
   "version": "2.7.15"
  }
 },
 "nbformat": 4,
 "nbformat_minor": 2
}
