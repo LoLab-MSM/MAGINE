{
 "cells": [
  {
   "cell_type": "code",
   "execution_count": null,
   "metadata": {},
   "outputs": [],
   "source": [
    "import sys\n",
    "sys.path.append(\"../..\")\n",
    "from IPython.display import display\n",
    "%matplotlib inline"
   ]
  },
  {
   "cell_type": "code",
   "execution_count": null,
   "metadata": {},
   "outputs": [],
   "source": [
    "import pandas as pd\n",
    "import matplotlib.pyplot as plt\n",
    "import seaborn as sns\n",
    "from scipy.stats import pearsonr, spearmanr\n",
    "import numpy as np\n",
    "\n",
    "import magine.data.tools as dt\n",
    "\n",
    "from magine.plotting.heatmaps import  heatmap_from_array\n",
    "from magine.plotting.wordcloud_tools import create_wordcloud\n",
    "from magine.plotting.venn_diagram_maker import create_venn2, create_venn3\n",
    "from magine.plotting.species_plotting import plot_species"
   ]
  },
  {
   "cell_type": "code",
   "execution_count": null,
   "metadata": {},
   "outputs": [],
   "source": [
    "# load the experimental data\n",
    "from exp_data import exp_data"
   ]
  },
  {
   "cell_type": "markdown",
   "metadata": {},
   "source": [
    "# Visualize experimental data\n"
   ]
  },
  {
   "cell_type": "code",
   "execution_count": null,
   "metadata": {},
   "outputs": [],
   "source": [
    "display(exp_data.create_table_of_data(save_name='table_measured'))\n",
    "display(exp_data.create_table_of_data(sig=True, save_name='table_sig_measured'))\n",
    "display(exp_data.create_table_of_data(sig=True, unique=True, \n",
    "                                      save_name='table_sig_unique_measured'))"
   ]
  },
  {
   "cell_type": "code",
   "execution_count": null,
   "metadata": {
    "scrolled": false
   },
   "outputs": [],
   "source": [
    "v_plot = exp_data.label_free.volcano_plot(save_name='lf_volcano')\n",
    "hist_plot = exp_data.create_histogram_measurements('label_free', 'hist')"
   ]
  },
  {
   "cell_type": "code",
   "execution_count": null,
   "metadata": {
    "scrolled": false
   },
   "outputs": [],
   "source": [
    "data = exp_data.data.copy()\n",
    "data = data[data['source'].isin(['label_free', 'rna_seq'])]\n",
    "data = dt.log2_normalize_df(data, 'fold_change')"
   ]
  },
  {
   "cell_type": "code",
   "execution_count": null,
   "metadata": {},
   "outputs": [],
   "source": [
    "g = sns.PairGrid(data,\n",
    "                 x_vars=['sample_id'],\n",
    "                 y_vars=['fold_change', 'p_value'],\n",
    "                 hue='source',\n",
    "                 aspect=1.25, size=3.5)\n",
    "g.map(sns.violinplot, palette=\"pastel\", split=True,);\n",
    "g.fig.savefig('violin_plot-lf_rna_over_time.png', dpi=300)"
   ]
  },
  {
   "cell_type": "code",
   "execution_count": null,
   "metadata": {},
   "outputs": [],
   "source": [
    "lf = exp_data.label_free\n",
    "lf = dt.log2_normalize_df(lf, 'fold_change')\n",
    "g = sns.violinplot(x=\"sample_id\", y=\"fold_change\", data=lf,\n",
    "                   palette=\"Set3\", order=sorted(lf['sample_id'].unique()) )\n",
    "\n",
    "plt.savefig(\"violin_plot.png\", dpi=300)\n",
    "display(exp_data.label_free['source'].unique())"
   ]
  },
  {
   "cell_type": "code",
   "execution_count": null,
   "metadata": {},
   "outputs": [],
   "source": [
    "met = exp_data.compounds.copy()\n",
    "proteins = exp_data.proteins.copy()\n",
    "rna_seq = exp_data.rna.copy()"
   ]
  },
  {
   "cell_type": "code",
   "execution_count": null,
   "metadata": {},
   "outputs": [],
   "source": [
    "met_sig = met.filter_by_minimum_sig_columns(\n",
    "    index='identifier', \n",
    "    columns='sample_id', \n",
    "    min_terms=4\n",
    ")\n",
    "fig = heatmap_from_array(met_sig, cluster_row=True, convert_to_log=True, \n",
    "                         index='label', values='fold_change', \n",
    "                         columns='sample_id', div_colors=True,\n",
    "                         fig_size=(8, 12), num_colors=11)\n",
    "\n",
    "\n",
    "plt.savefig('metabolomics_clustered.png', dpi=300, bbox_inches='tight')"
   ]
  },
  {
   "cell_type": "code",
   "execution_count": null,
   "metadata": {
    "scrolled": false
   },
   "outputs": [],
   "source": [
    "proteins.loc[proteins['fold_change']>10, 'fold_change']=10\n",
    "proteins.loc[proteins['fold_change']<-10, 'fold_change']=-10\n",
    "\n",
    "proteins_sig = proteins.filter_by_minimum_sig_columns(\n",
    "    index='label', \n",
    "    columns='sample_id', \n",
    "    min_terms=3\n",
    ")\n",
    "fig = heatmap_from_array(proteins_sig, cluster_row=True, convert_to_log=True, \n",
    "                         index='identifier', values='fold_change', \n",
    "                         columns='sample_id', div_colors=True, fig_size=(8, 8),  num_colors=11)\n",
    "\n",
    "fig.fig.savefig('proteins_clustered_time.png', dpi=250, bbox_inches='tight')"
   ]
  },
  {
   "cell_type": "code",
   "execution_count": null,
   "metadata": {
    "scrolled": false
   },
   "outputs": [],
   "source": [
    "fig = heatmap_from_array(rna_seq.sig, convert_to_log=True, cluster_row=False, \n",
    "                         index='identifier', values='fold_change', \n",
    "                         columns='sample_id', div_colors=True, fig_size=(8, 8), num_colors=11)"
   ]
  },
  {
   "cell_type": "code",
   "execution_count": null,
   "metadata": {},
   "outputs": [],
   "source": [
    "create_venn2(exp_data.rna.sig.id_list,\n",
    "             exp_data.proteins.sig.id_list, \n",
    "             'RNA', 'Protein', 'venn_rna_and_protein');"
   ]
  },
  {
   "cell_type": "code",
   "execution_count": null,
   "metadata": {},
   "outputs": [],
   "source": [
    "lf = exp_data.label_free.sig.id_list\n",
    "silac = exp_data.silac.sig.id_list\n",
    "phsilac = exp_data.ph_silac.sig.id_list\n",
    "\n",
    "create_venn3(lf, silac, phsilac, \n",
    "             'LF', 'SILAC', 'ph-SILAC', 'venn_proteomics');"
   ]
  },
  {
   "cell_type": "code",
   "execution_count": null,
   "metadata": {},
   "outputs": [],
   "source": [
    "hilic = exp_data.HILIC.sig.id_list\n",
    "rplc = exp_data.C18.sig.id_list\n",
    "\n",
    "create_venn2(hilic, rplc, 'HILIC', 'RPLC', 'venn_metabolomics');"
   ]
  },
  {
   "cell_type": "code",
   "execution_count": null,
   "metadata": {},
   "outputs": [],
   "source": [
    "exp_data.plot_species(\n",
    "    ['VDAC1', 'TRIM28', 'DKC1'], \n",
    "    plot_type='matplotlib', \n",
    "    save_name='proteins_timecour_example', \n",
    "    image_format='png'\n",
    ");"
   ]
  },
  {
   "cell_type": "code",
   "execution_count": null,
   "metadata": {},
   "outputs": [],
   "source": []
  }
 ],
 "metadata": {
  "kernelspec": {
   "display_name": "Python 2",
   "language": "python",
   "name": "python2"
  },
  "language_info": {
   "codemirror_mode": {
    "name": "ipython",
    "version": 2
   },
   "file_extension": ".py",
   "mimetype": "text/x-python",
   "name": "python",
   "nbconvert_exporter": "python",
   "pygments_lexer": "ipython2",
   "version": "2.7.15"
  }
 },
 "nbformat": 4,
 "nbformat_minor": 2
}
