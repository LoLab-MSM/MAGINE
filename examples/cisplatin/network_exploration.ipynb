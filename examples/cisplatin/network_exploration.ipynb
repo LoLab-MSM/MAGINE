{
 "cells": [
  {
   "cell_type": "code",
   "execution_count": null,
   "metadata": {
    "collapsed": true
   },
   "outputs": [],
   "source": [
    "import networkx as nx\n",
    "%matplotlib inline\n",
    "import sys\n",
    "sys.path.append('../..')"
   ]
  },
  {
   "cell_type": "code",
   "execution_count": null,
   "metadata": {},
   "outputs": [],
   "source": [
    "from magine.networks.visualization.notebooks.view import render_graph, display_graph, render_graph\n",
    "from magine.networks.subgraphs import Subgraph"
   ]
  },
  {
   "cell_type": "code",
   "execution_count": null,
   "metadata": {
    "collapsed": true
   },
   "outputs": [],
   "source": [
    "g = nx.read_gpickle('Data/cisplatin_based_network.p')\n",
    "net_sub = Subgraph(g)"
   ]
  },
  {
   "cell_type": "code",
   "execution_count": null,
   "metadata": {},
   "outputs": [],
   "source": [
    "print(len(g.nodes()))\n",
    "print(len(g.edges()))"
   ]
  },
  {
   "cell_type": "code",
   "execution_count": null,
   "metadata": {
    "collapsed": true
   },
   "outputs": [],
   "source": [
    "from exp_data import exp_data"
   ]
  },
  {
   "cell_type": "code",
   "execution_count": null,
   "metadata": {},
   "outputs": [],
   "source": [
    "nodes = set(g.nodes())\n",
    "species_measure = set(exp_data.list_species)\n",
    "sig_species_measure = set(exp_data.list_sig_species)\n",
    "overlap_measured = len(nodes.intersection(species_measure))\n",
    "sig_overlap_measured = len(nodes.intersection(sig_species_measure))\n",
    "print(overlap_measured)\n",
    "print(float(overlap_measured)/len(nodes)*100.)\n",
    "print(sig_overlap_measured)\n",
    "print(float(sig_overlap_measured)/len(nodes)*100.)\n"
   ]
  },
  {
   "cell_type": "code",
   "execution_count": null,
   "metadata": {
    "collapsed": true,
    "scrolled": false
   },
   "outputs": [],
   "source": [
    "bax_n = net_sub.neighbors('BAX', up=True, down=True)"
   ]
  },
  {
   "cell_type": "code",
   "execution_count": null,
   "metadata": {
    "scrolled": false
   },
   "outputs": [],
   "source": [
    "render_graph(bax_n)"
   ]
  },
  {
   "cell_type": "code",
   "execution_count": null,
   "metadata": {},
   "outputs": [],
   "source": [
    "display_graph(bax_n)"
   ]
  },
  {
   "cell_type": "code",
   "execution_count": null,
   "metadata": {
    "scrolled": false
   },
   "outputs": [],
   "source": [
    "expand = net_sub.expand_neighbors(bax_n, nodes='CASP3', down_stream=True)\n",
    "display_graph(expand)"
   ]
  },
  {
   "cell_type": "code",
   "execution_count": null,
   "metadata": {
    "scrolled": false
   },
   "outputs": [],
   "source": [
    "expand2 = net_sub.expand_neighbors(expand, nodes='PARP1', down_stream=True)\n",
    "display_graph(expand2)"
   ]
  },
  {
   "cell_type": "code",
   "execution_count": null,
   "metadata": {
    "collapsed": true
   },
   "outputs": [],
   "source": [
    "BAX_to_AKT = net_sub.shortest_paths_between_two_proteins('BAX', 'AKT1')"
   ]
  },
  {
   "cell_type": "code",
   "execution_count": null,
   "metadata": {
    "scrolled": false
   },
   "outputs": [],
   "source": [
    "render_graph(BAX_to_AKT)"
   ]
  },
  {
   "cell_type": "code",
   "execution_count": null,
   "metadata": {
    "collapsed": true
   },
   "outputs": [],
   "source": [
    "nx.write_gml(BAX_to_AKT, 'bax_to_akt.gml')"
   ]
  },
  {
   "cell_type": "code",
   "execution_count": null,
   "metadata": {
    "collapsed": true
   },
   "outputs": [],
   "source": []
  }
 ],
 "metadata": {
  "kernelspec": {
   "display_name": "Python [conda env:magine_env]",
   "language": "python",
   "name": "conda-env-magine_env-py"
  },
  "language_info": {
   "codemirror_mode": {
    "name": "ipython",
    "version": 2
   },
   "file_extension": ".py",
   "mimetype": "text/x-python",
   "name": "python",
   "nbconvert_exporter": "python",
   "pygments_lexer": "ipython2",
   "version": "2.7.12"
  }
 },
 "nbformat": 4,
 "nbformat_minor": 2
}
