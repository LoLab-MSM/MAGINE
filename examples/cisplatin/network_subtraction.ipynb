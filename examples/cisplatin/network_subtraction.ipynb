{
 "cells": [
  {
   "cell_type": "code",
   "execution_count": null,
   "metadata": {},
   "outputs": [],
   "source": [
    "%matplotlib inline\n",
    "import sys\n",
    "sys.path.append(\"../..\")\n",
    "from IPython.display import display\n",
    "\n",
    "import networkx as nx\n",
    "import numpy as np\n",
    "import matplotlib.pyplot as plt"
   ]
  },
  {
   "cell_type": "code",
   "execution_count": null,
   "metadata": {},
   "outputs": [],
   "source": [
    "from magine.networks.utils import subtract_network_from_network\n",
    "from magine.networks.subgraphs import Subgraph\n",
    "from magine.networks.visualization.notebooks.view import display_graph\n",
    "from magine.enrichment.enrichr import Enrichr\n",
    "from exp_data import exp_data\n",
    "from collections import Counter\n",
    "e = Enrichr()"
   ]
  },
  {
   "cell_type": "code",
   "execution_count": null,
   "metadata": {},
   "outputs": [],
   "source": [
    "# expanded canonical network\n",
    "ecn = nx.read_gml('Networks/canonical_kegg_hmdb_biogrid_reactome_signor.gml')\n",
    "\n",
    "# data driven network\n",
    "ddn = nx.read_gpickle('Networks/cisplatin_network_w_attributes.p')"
   ]
  },
  {
   "cell_type": "code",
   "execution_count": null,
   "metadata": {},
   "outputs": [],
   "source": [
    "subtracted_net = subtract_network_from_network(ddn, ecn)\n",
    "\n",
    "nx.write_gml(subtracted_net, 'Networks/subtracted_network.gml')\n",
    "\n",
    "# make copy to edit\n",
    "subtracted_net_copy = subtracted_net.copy()\n",
    "\n",
    "# conver to undirected, sort by connectivity\n",
    "tmp_g = subtracted_net.to_undirected()\n",
    "sorted_graphs = sorted(nx.connected_component_subgraphs(tmp_g), key=len, reverse=True)"
   ]
  },
  {
   "cell_type": "code",
   "execution_count": null,
   "metadata": {},
   "outputs": [],
   "source": [
    "node_list = []\n",
    "group_to_nodes = dict()\n",
    "counter = 0\n",
    "\n",
    "for i in sorted_graphs:\n",
    "    nodes = set(i.nodes)\n",
    "    n_nodes = len(nodes)\n",
    "    node_list.append(n_nodes)\n",
    "    if n_nodes <= 2:\n",
    "        subtracted_net_copy.remove_nodes_from(nodes)\n",
    "        continue\n",
    "    \n",
    "    sig_hit = 0\n",
    "    measured_hit = 0\n",
    "    \n",
    "    for node, data in i.nodes(data=True):\n",
    "        if data['sigMeasured'] == 'red':\n",
    "            sig_hit += 1\n",
    "        if data['measured'] == 'red':\n",
    "            measured_hit += 1\n",
    "    \n",
    "    fraction_sig = float(sig_hit)/float(n_nodes)*100.\n",
    "    fraction_measured = float(measured_hit)/float(n_nodes)*100.\n",
    "    \n",
    "    if fraction_sig <= 50.:\n",
    "        subtracted_net_copy.remove_nodes_from(nodes)\n",
    "    else:\n",
    "        for i in nodes:\n",
    "            subtracted_net_copy.node[i]['group'] = 'group{0:05d}'.format(counter)\n",
    "        group_to_nodes['group{}'.format(counter)] = nodes\n",
    "        counter += 1\n",
    "        \n",
    "nx.write_gml(subtracted_net_copy, 'Networks/subtracted_network_filtered.gml')  \n",
    "\n",
    "display(Counter(node_list))"
   ]
  },
  {
   "cell_type": "code",
   "execution_count": null,
   "metadata": {},
   "outputs": [],
   "source": [
    "def run(genes, db='Reactome_2016'):\n",
    "    df = e.run(genes, db)\n",
    "    df['sample_id']= 1\n",
    "    if df.shape[0] > 1:\n",
    "        df.filter_multi(p_value=0.05, inplace=True)\n",
    "        df.remove_redundant(inplace=True)\n",
    "    if df.shape[0] > 1:\n",
    "        df.dist_matrix(level='sample');\n",
    "    display(df.head(20))\n",
    "    return df"
   ]
  },
  {
   "cell_type": "code",
   "execution_count": null,
   "metadata": {},
   "outputs": [],
   "source": [
    "group0_go_bp = run(group_to_nodes['group0'], 'GO_Biological_Process_2017b')"
   ]
  },
  {
   "cell_type": "code",
   "execution_count": null,
   "metadata": {},
   "outputs": [],
   "source": [
    "group0_disease = run(group_to_nodes['group0'], 'Jensen_DISEASES')"
   ]
  },
  {
   "cell_type": "code",
   "execution_count": null,
   "metadata": {},
   "outputs": [],
   "source": [
    "group1_disease = run(group_to_nodes['group1'], 'Jensen_DISEASES')"
   ]
  },
  {
   "cell_type": "markdown",
   "metadata": {},
   "source": [
    "\"Deafness/dystonia syndrome thus may be caused by decreased levels of Tim23 in the mitochondrial inner membrane in affected tissues.\"\n",
    "https://academic.oup.com/hmg/article/11/5/477/2901604"
   ]
  },
  {
   "cell_type": "code",
   "execution_count": null,
   "metadata": {},
   "outputs": [],
   "source": [
    "exp_data.species.plot_species(group1_disease.term_to_genes('deafness_dystonia_syndrome'),\n",
    "                      'TIMM23_deafness', image_format='png', plot_type='matplotlib');"
   ]
  },
  {
   "cell_type": "code",
   "execution_count": null,
   "metadata": {},
   "outputs": [],
   "source": [
    "ns = Subgraph(network=ddn)"
   ]
  },
  {
   "cell_type": "code",
   "execution_count": null,
   "metadata": {},
   "outputs": [],
   "source": [
    "sub = ns.neighbors('TIMM23', max_dist=2,)\n",
    "print(sub.nodes)"
   ]
  },
  {
   "cell_type": "code",
   "execution_count": null,
   "metadata": {},
   "outputs": [],
   "source": [
    "display_graph(sub)"
   ]
  },
  {
   "cell_type": "code",
   "execution_count": null,
   "metadata": {},
   "outputs": [],
   "source": [
    "sub = ns.paths_between_list(df.term_to_genes('3-methylglutaconic_aciduria'))\n",
    "sub = ns.expand_neighbors(sub, nodes=list(sub.nodes), upstream=True, downstream=True, max_dist=1)\n",
    "# sub = ns.expand_neighbors(sub, nodes=list(sub.nodes), upstream=True, downstream=True, max_dist=3)\n",
    "display_graph(sub)"
   ]
  },
  {
   "cell_type": "code",
   "execution_count": null,
   "metadata": {},
   "outputs": [],
   "source": [
    "sub = ns.neighbors('TIMM23')\n",
    "display_graph(sub)\n",
    "                   "
   ]
  },
  {
   "cell_type": "markdown",
   "metadata": {},
   "source": [
    "# Group 1\n",
    "MPTP complex is known to get activated under high ROS conditions and Ca2+ overload, leading to increase fluid uptake due to mitochondria protein transport; thus resulting in potential loss, organellar swelling and induction of cell death.\n",
    "\n",
    "This points to a DNA damage independent form of cell death induced from cisplatin. \n",
    "\n",
    "https://www.nature.com/articles/cddis201472"
   ]
  },
  {
   "cell_type": "code",
   "execution_count": null,
   "metadata": {
    "scrolled": false
   },
   "outputs": [],
   "source": [
    "group0 = run(group_to_nodes['group0'])"
   ]
  },
  {
   "cell_type": "code",
   "execution_count": null,
   "metadata": {},
   "outputs": [],
   "source": [
    "group1 = run(group_to_nodes['group1'])"
   ]
  },
  {
   "cell_type": "code",
   "execution_count": null,
   "metadata": {},
   "outputs": [],
   "source": [
    "group2 = run(group_to_nodes['group2'])"
   ]
  },
  {
   "cell_type": "code",
   "execution_count": null,
   "metadata": {},
   "outputs": [],
   "source": [
    "group2 = run(group_to_nodes['group2'])"
   ]
  },
  {
   "cell_type": "code",
   "execution_count": null,
   "metadata": {},
   "outputs": [],
   "source": [
    "group3 = run(group_to_nodes['group3'])"
   ]
  },
  {
   "cell_type": "markdown",
   "metadata": {},
   "source": [
    "## Kinases"
   ]
  },
  {
   "cell_type": "code",
   "execution_count": null,
   "metadata": {},
   "outputs": [],
   "source": [
    "phospho = set(i.split('_')[0] for i in exp_data.ph_silac.sig.label_list if '(ph' in i)\n",
    "df = e.run(phospho, 'KEA_2015')\n",
    "df['term_name'] = df['term_name'].str.upper()\n",
    "df['sample_id'] = 1\n",
    "df.filter_multi(p_value=0.05, combined_score=1, inplace=True)\n",
    "df.remove_redundant(inplace=True)\n",
    "df.dist_matrix();"
   ]
  },
  {
   "cell_type": "code",
   "execution_count": null,
   "metadata": {},
   "outputs": [],
   "source": [
    "display(df.head(10))"
   ]
  },
  {
   "cell_type": "markdown",
   "metadata": {},
   "source": [
    "## CDK2 activation linked to Nephrotoxicity\n",
    "CDK2 is the top enriched kinase. This paper shows that in kidney cells (non-cancerous, thus an off target side effect) have high levels of CDK2. Inhibiting CDK2 alleviates apoptosis in these cells. \n",
    "\n",
    "http://jasn.asnjournals.org/content/17/9/2434.full"
   ]
  },
  {
   "cell_type": "code",
   "execution_count": null,
   "metadata": {},
   "outputs": [],
   "source": [
    "exp_data.genes.plot_species(['CDK1'], 'CDK1_plot', plot_type='matplotlib');"
   ]
  },
  {
   "cell_type": "markdown",
   "metadata": {},
   "source": [
    "# Auditory system clue\n",
    "GSK3B is highly active. This paper shows that its inhibition could save auditory cells. \n",
    "https://www.ncbi.nlm.nih.gov/pubmed/19666099"
   ]
  },
  {
   "cell_type": "code",
   "execution_count": null,
   "metadata": {},
   "outputs": [],
   "source": [
    "exp_data.genes.plot_species(['GSK3B'], 'test', plot_type='matplotlib');"
   ]
  },
  {
   "cell_type": "code",
   "execution_count": null,
   "metadata": {
    "scrolled": false
   },
   "outputs": [],
   "source": [
    "display_graph(ns.neighbors('GSK3B', upstream=True, downstream=False,\n",
    "                           include_only=exp_data.species.sig.id_list))"
   ]
  },
  {
   "cell_type": "code",
   "execution_count": null,
   "metadata": {},
   "outputs": [],
   "source": [
    "all_genes = exp_data.proteins.sig.id_list\n",
    "nodes = set(ddn.nodes)\n",
    "missing = all_genes.difference(nodes)\n",
    "print(len(missing))\n",
    "# remove orfs and non-read transcripts\n",
    "\n",
    "acs = set(i for i in missing if i.startswith('AC') and '.' in i)\n",
    "rps = set(i for i in missing if i.startswith('RP') and '.' in i)\n",
    "orfs = set(i for i in missing if 'orf' in i)\n",
    "mirs = set(i for i in missing if i.startswith('MIR'))\n",
    "for i in (acs, rps, orfs, mirs):\n",
    "    missing.difference_update(i)\n",
    "    print(len(missing))\n"
   ]
  },
  {
   "cell_type": "code",
   "execution_count": null,
   "metadata": {},
   "outputs": [],
   "source": [
    "print(sorted(missing))"
   ]
  },
  {
   "cell_type": "code",
   "execution_count": null,
   "metadata": {
    "scrolled": false
   },
   "outputs": [],
   "source": [
    "missing_df = run(missing, 'GO_Biological_Process_2017b')\n"
   ]
  },
  {
   "cell_type": "code",
   "execution_count": null,
   "metadata": {},
   "outputs": [],
   "source": []
  },
  {
   "cell_type": "code",
   "execution_count": null,
   "metadata": {},
   "outputs": [],
   "source": []
  }
 ],
 "metadata": {
  "kernelspec": {
   "display_name": "Python 2",
   "language": "python",
   "name": "python2"
  },
  "language_info": {
   "codemirror_mode": {
    "name": "ipython",
    "version": 2
   },
   "file_extension": ".py",
   "mimetype": "text/x-python",
   "name": "python",
   "nbconvert_exporter": "python",
   "pygments_lexer": "ipython2",
   "version": "2.7.15"
  }
 },
 "nbformat": 4,
 "nbformat_minor": 2
}
