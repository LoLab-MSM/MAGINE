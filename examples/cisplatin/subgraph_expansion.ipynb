{
 "cells": [
  {
   "cell_type": "code",
   "execution_count": null,
   "metadata": {},
   "outputs": [],
   "source": [
    "import networkx as nx\n",
    "%matplotlib inline\n",
    "import sys\n",
    "sys.path.append(\"../..\")\n",
    "from IPython.display import Image\n",
    "from magine.networks.visualization.notebook_tools import find_neighbors\n",
    "from magine.networks.visualization.notebooks.view import render_graph, display_graph\n",
    "from magine.networks.subgraphs import Subgraph\n",
    "from magine.networks.visualization.igraph_tools import create_igraph_figure\n",
    "from exp_data import exp_data"
   ]
  },
  {
   "cell_type": "code",
   "execution_count": null,
   "metadata": {
    "collapsed": true
   },
   "outputs": [],
   "source": [
    "g = nx.read_gpickle('Data/cisplatin_based_network.p')\n",
    "sg_generator = Subgraph(g)\n",
    "measured = exp_data.list_sig_species"
   ]
  },
  {
   "cell_type": "code",
   "execution_count": null,
   "metadata": {
    "collapsed": true
   },
   "outputs": [],
   "source": [
    "start = sg_generator.neighbors('ERCC4', down=True, \n",
    "                               include_only=measured\n",
    "                              )"
   ]
  },
  {
   "cell_type": "code",
   "execution_count": null,
   "metadata": {
    "scrolled": false
   },
   "outputs": [],
   "source": [
    "display_graph(start)"
   ]
  },
  {
   "cell_type": "code",
   "execution_count": null,
   "metadata": {},
   "outputs": [],
   "source": [
    "expand_up = sg_generator.expand_neighbors(start, 'ATR', \n",
    "                                          down_stream=True, \n",
    "                                          include_list=measured)\n"
   ]
  },
  {
   "cell_type": "code",
   "execution_count": null,
   "metadata": {},
   "outputs": [],
   "source": [
    "display_graph(expand_up)"
   ]
  },
  {
   "cell_type": "code",
   "execution_count": null,
   "metadata": {
    "scrolled": false
   },
   "outputs": [],
   "source": [
    "expand_up2 = sg_generator.expand_neighbors(expand_up, 'TP53', down_stream=True, include_list=exp_data.list_sig_species)"
   ]
  },
  {
   "cell_type": "code",
   "execution_count": null,
   "metadata": {
    "scrolled": false
   },
   "outputs": [],
   "source": [
    "display_graph(expand_up2)"
   ]
  },
  {
   "cell_type": "code",
   "execution_count": null,
   "metadata": {
    "collapsed": true
   },
   "outputs": [],
   "source": []
  }
 ],
 "metadata": {
  "kernelspec": {
   "display_name": "Python [conda env:magine_env]",
   "language": "python",
   "name": "conda-env-magine_env-py"
  },
  "language_info": {
   "codemirror_mode": {
    "name": "ipython",
    "version": 2
   },
   "file_extension": ".py",
   "mimetype": "text/x-python",
   "name": "python",
   "nbconvert_exporter": "python",
   "pygments_lexer": "ipython2",
   "version": "2.7.12"
  }
 },
 "nbformat": 4,
 "nbformat_minor": 2
}
